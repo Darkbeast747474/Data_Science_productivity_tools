{
 "cells": [
  {
   "cell_type": "markdown",
   "id": "a2d362f9",
   "metadata": {},
   "source": [
    "# Data Scpraping Using Pymongo"
   ]
  },
  {
   "cell_type": "markdown",
   "id": "3751b3f0",
   "metadata": {},
   "source": [
    "*Importing and Instan Mongo Client *"
   ]
  },
  {
   "cell_type": "code",
   "execution_count": 12,
   "id": "17e7e3e2",
   "metadata": {},
   "outputs": [
    {
     "name": "stdout",
     "output_type": "stream",
     "text": [
      "Connected successfully!!\n"
     ]
    }
   ],
   "source": [
    "from pymongo import MongoClient\n",
    "\n",
    "try:\n",
    "    client = MongoClient('mongodb://localhost:27017/')\n",
    "    client.admin.command(\"ping\")\n",
    "    print(\"Connected successfully!!\")\n",
    "    \n",
    "except Exception as e:\n",
    "    raise Exception(\"The following error occurred: \", e)"
   ]
  },
  {
   "cell_type": "code",
   "execution_count": 14,
   "id": "ff60a1d2",
   "metadata": {},
   "outputs": [
    {
     "data": {
      "text/plain": [
       "['Students', 'admin', 'config', 'flask_database', 'local', 'testDB']"
      ]
     },
     "execution_count": 14,
     "metadata": {},
     "output_type": "execute_result"
    }
   ],
   "source": [
    "client.list_database_names()"
   ]
  },
  {
   "cell_type": "code",
   "execution_count": 3,
   "id": "08bca70d",
   "metadata": {},
   "outputs": [],
   "source": [
    "db = client['testDB']"
   ]
  },
  {
   "cell_type": "code",
   "execution_count": 13,
   "id": "f30a9683",
   "metadata": {},
   "outputs": [
    {
     "data": {
      "text/plain": [
       "['pandas']"
      ]
     },
     "execution_count": 13,
     "metadata": {},
     "output_type": "execute_result"
    }
   ],
   "source": [
    "db.list_collection_names()"
   ]
  },
  {
   "cell_type": "code",
   "execution_count": 5,
   "id": "740914a0",
   "metadata": {},
   "outputs": [],
   "source": [
    "col = db['pandas']"
   ]
  },
  {
   "cell_type": "code",
   "execution_count": 10,
   "id": "6bf405f4",
   "metadata": {},
   "outputs": [
    {
     "name": "stdout",
     "output_type": "stream",
     "text": [
      "Enter The Number of Document U Wanna Insert: 0\n"
     ]
    }
   ],
   "source": [
    "def Insert_queries(ins_doc = None):\n",
    "    \n",
    "    ''' Make A Dictionary With Desired Key and Input method Like default Doc in This Function defination\n",
    "        then Pass through the function Call ''' \n",
    "    \n",
    "    r = int(input(\"Enter The Number of Document U Wanna Insert: \"))\n",
    "    for i in range(r):\n",
    "        ins_doc = {\n",
    "                'Name':input('Enter The Name: '),\n",
    "                'Amount': (int(input('Enter The Amount Person Have: '))),\n",
    "              }\n",
    "        col.insert_one(ins_doc)\n",
    "    del ins_doc    \n",
    "Insert_queries()        "
   ]
  },
  {
   "cell_type": "code",
   "execution_count": 15,
   "id": "4ebaefbc",
   "metadata": {},
   "outputs": [
    {
     "data": {
      "text/plain": [
       "{0: {'_id': ObjectId('663f44c975bffc136080997f'),\n",
       "  'Name': 'A',\n",
       "  'Amount': 1000000000},\n",
       " 1: {'_id': ObjectId('663f454475bffc1360809980'),\n",
       "  'Name': 'B',\n",
       "  'Amount': 10000000},\n",
       " 2: {'_id': ObjectId('663f45e075bffc1360809982'),\n",
       "  'Name': 'C',\n",
       "  'Amount': 100700},\n",
       " 3: {'_id': ObjectId('663f46c675bffc1360809985'),\n",
       "  'Name': 'D',\n",
       "  'Amount': 100000}}"
      ]
     },
     "execution_count": 15,
     "metadata": {},
     "output_type": "execute_result"
    }
   ],
   "source": [
    "dc_to_df = {}\n",
    "fectched_docs = col.find()\n",
    "for i,doc in enumerate(fectched_docs):\n",
    "    dc_to_df[i] = doc   \n",
    "dc_to_df    "
   ]
  },
  {
   "cell_type": "code",
   "execution_count": 16,
   "id": "1f7f1076",
   "metadata": {},
   "outputs": [],
   "source": [
    "import pandas as pd"
   ]
  },
  {
   "cell_type": "code",
   "execution_count": 17,
   "id": "bc30eeb5",
   "metadata": {},
   "outputs": [
    {
     "data": {
      "text/html": [
       "<div>\n",
       "<style scoped>\n",
       "    .dataframe tbody tr th:only-of-type {\n",
       "        vertical-align: middle;\n",
       "    }\n",
       "\n",
       "    .dataframe tbody tr th {\n",
       "        vertical-align: top;\n",
       "    }\n",
       "\n",
       "    .dataframe thead th {\n",
       "        text-align: right;\n",
       "    }\n",
       "</style>\n",
       "<table border=\"1\" class=\"dataframe\">\n",
       "  <thead>\n",
       "    <tr style=\"text-align: right;\">\n",
       "      <th></th>\n",
       "      <th>_id</th>\n",
       "      <th>Name</th>\n",
       "      <th>Amount</th>\n",
       "    </tr>\n",
       "  </thead>\n",
       "  <tbody>\n",
       "    <tr>\n",
       "      <th>0</th>\n",
       "      <td>663f44c975bffc136080997f</td>\n",
       "      <td>A</td>\n",
       "      <td>1000000000</td>\n",
       "    </tr>\n",
       "    <tr>\n",
       "      <th>1</th>\n",
       "      <td>663f454475bffc1360809980</td>\n",
       "      <td>B</td>\n",
       "      <td>10000000</td>\n",
       "    </tr>\n",
       "    <tr>\n",
       "      <th>2</th>\n",
       "      <td>663f45e075bffc1360809982</td>\n",
       "      <td>C</td>\n",
       "      <td>100700</td>\n",
       "    </tr>\n",
       "    <tr>\n",
       "      <th>3</th>\n",
       "      <td>663f46c675bffc1360809985</td>\n",
       "      <td>D</td>\n",
       "      <td>100000</td>\n",
       "    </tr>\n",
       "  </tbody>\n",
       "</table>\n",
       "</div>"
      ],
      "text/plain": [
       "                        _id Name      Amount\n",
       "0  663f44c975bffc136080997f    A  1000000000\n",
       "1  663f454475bffc1360809980    B    10000000\n",
       "2  663f45e075bffc1360809982    C      100700\n",
       "3  663f46c675bffc1360809985    D      100000"
      ]
     },
     "execution_count": 17,
     "metadata": {},
     "output_type": "execute_result"
    }
   ],
   "source": [
    "df = pd.DataFrame(dc_to_df).T\n",
    "del dc_to_df\n",
    "df"
   ]
  },
  {
   "cell_type": "code",
   "execution_count": null,
   "id": "539f1364",
   "metadata": {},
   "outputs": [],
   "source": []
  }
 ],
 "metadata": {
  "kernelspec": {
   "display_name": "Python 3 (ipykernel)",
   "language": "python",
   "name": "python3"
  },
  "language_info": {
   "codemirror_mode": {
    "name": "ipython",
    "version": 3
   },
   "file_extension": ".py",
   "mimetype": "text/x-python",
   "name": "python",
   "nbconvert_exporter": "python",
   "pygments_lexer": "ipython3",
   "version": "3.11.7"
  }
 },
 "nbformat": 4,
 "nbformat_minor": 5
}
