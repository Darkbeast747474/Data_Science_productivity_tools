{
 "cells": [
  {
   "cell_type": "markdown",
   "id": "02b3c6d7",
   "metadata": {},
   "source": [
    "# Data Scpraping Using Pymongo"
   ]
  },
  {
   "cell_type": "markdown",
   "id": "50180a64",
   "metadata": {},
   "source": [
    "*Importing and Instantiating MongoDB Client*"
   ]
  },
  {
   "cell_type": "code",
   "execution_count": 1,
   "id": "17e7e3e2",
   "metadata": {},
   "outputs": [
    {
     "name": "stdout",
     "output_type": "stream",
     "text": [
      "Connected successfully!!\n"
     ]
    }
   ],
   "source": [
    "from pymongo import MongoClient\n",
    "\n",
    "try:\n",
    "    client = MongoClient('mongodb://localhost:27017/')\n",
    "    client.admin.command(\"ping\")\n",
    "    print(\"Connected successfully!!\")\n",
    "    \n",
    "except Exception as e:\n",
    "    raise Exception(\"The following error occurred: \", e)"
   ]
  },
  {
   "cell_type": "markdown",
   "id": "90108ff2",
   "metadata": {},
   "source": [
    "*Checking And Instantiating Database Instance*"
   ]
  },
  {
   "cell_type": "code",
   "execution_count": 2,
   "id": "ff60a1d2",
   "metadata": {},
   "outputs": [],
   "source": [
    "db_lis = client.list_database_names()"
   ]
  },
  {
   "cell_type": "code",
   "execution_count": 3,
   "id": "08bca70d",
   "metadata": {},
   "outputs": [],
   "source": [
    "db = client[db_lis[5]]"
   ]
  },
  {
   "cell_type": "markdown",
   "id": "ba5a4d76",
   "metadata": {},
   "source": [
    "*Checking And Instantiating Collection Instance*"
   ]
  },
  {
   "cell_type": "code",
   "execution_count": 4,
   "id": "f30a9683",
   "metadata": {},
   "outputs": [],
   "source": [
    "col_lis = db.list_collection_names()"
   ]
  },
  {
   "cell_type": "code",
   "execution_count": 5,
   "id": "740914a0",
   "metadata": {},
   "outputs": [],
   "source": [
    "col = db[col_lis[0]]"
   ]
  },
  {
   "cell_type": "markdown",
   "id": "9dc76281",
   "metadata": {},
   "source": [
    "## Inserting Documents "
   ]
  },
  {
   "cell_type": "markdown",
   "id": "48eb18d0",
   "metadata": {},
   "source": [
    "*Defining A Function For Dictionary Building And Inserting Documnent In MongoDB* "
   ]
  },
  {
   "cell_type": "code",
   "execution_count": 52,
   "id": "6bf405f4",
   "metadata": {},
   "outputs": [
    {
     "ename": "RuntimeError",
     "evalue": "dictionary changed size during iteration",
     "output_type": "error",
     "traceback": [
      "\u001b[1;31m---------------------------------------------------------------------------\u001b[0m",
      "\u001b[1;31mRuntimeError\u001b[0m                              Traceback (most recent call last)",
      "Cell \u001b[1;32mIn[52], line 18\u001b[0m\n\u001b[0;32m     16\u001b[0m         \u001b[38;5;28;01mdel\u001b[39;00m feat_doc[k]    \n\u001b[0;32m     17\u001b[0m     \u001b[38;5;28;01mdel\u001b[39;00m ins_doc\n\u001b[1;32m---> 18\u001b[0m Insert_docs()\n",
      "Cell \u001b[1;32mIn[52], line 13\u001b[0m, in \u001b[0;36mInsert_docs\u001b[1;34m()\u001b[0m\n\u001b[0;32m     11\u001b[0m r \u001b[38;5;241m=\u001b[39m \u001b[38;5;28mint\u001b[39m(\u001b[38;5;28minput\u001b[39m(\u001b[38;5;124m\"\u001b[39m\u001b[38;5;124mEnter The Number of Document U Wanna Insert: \u001b[39m\u001b[38;5;124m\"\u001b[39m))\n\u001b[0;32m     12\u001b[0m \u001b[38;5;28;01mfor\u001b[39;00m i \u001b[38;5;129;01min\u001b[39;00m \u001b[38;5;28mrange\u001b[39m(r):\n\u001b[1;32m---> 13\u001b[0m  \u001b[38;5;28;01mfor\u001b[39;00m k,v \u001b[38;5;129;01min\u001b[39;00m feat_doc\u001b[38;5;241m.\u001b[39mitems():\n\u001b[0;32m     14\u001b[0m     ins_doc[k] \u001b[38;5;241m=\u001b[39m type_Cast(v,(\u001b[38;5;28minput\u001b[39m(\u001b[38;5;124mf\u001b[39m\u001b[38;5;124m\"\u001b[39m\u001b[38;5;124mEnter The Value For \u001b[39m\u001b[38;5;132;01m{\u001b[39;00mk\u001b[38;5;132;01m}\u001b[39;00m\u001b[38;5;124m Attribute:\u001b[39m\u001b[38;5;124m\"\u001b[39m)))\n\u001b[0;32m     15\u001b[0m     col\u001b[38;5;241m.\u001b[39minsert_one(ins_doc)  \n",
      "\u001b[1;31mRuntimeError\u001b[0m: dictionary changed size during iteration"
     ]
    }
   ],
   "source": [
    "def type_Cast(d_t,v):\n",
    "    data_types = {\"int\": int,\"float\": float,\"str\": str,\"bool\": bool,\"list\": list,\"tuple\": tuple,\"dict\": dict,\"set\": set}\n",
    "    if d_t in data_types.keys():\n",
    "        return data_types[d_t](v)\n",
    "def Insert_docs():\n",
    "    ''' A Function Which Let's You Choose the Desired attributes & it's Type before inserting It Into collection of Docments''' \n",
    "    feat_doc , ins_doc = {},{}\n",
    "    n_attr = int(input(\"Enter The Number Of Attributes For Collection: \"))\n",
    "    for i in range(n_attr):\n",
    "        feat_doc[input(\"Name Of the Attribute: \")] = input('Enter The Data Type for This Attribute: ')\n",
    "    r = int(input(\"Enter The Number of Document U Wanna Insert: \"))\n",
    "    for i in range(r):\n",
    "     for k,v in feat_doc.items():\n",
    "        ins_doc[k] = type_Cast(v,(input(f\"Enter The Value For {k} Attribute:\")))\n",
    "        col.insert_one(ins_doc)  \n",
    "        del feat_doc[k]    #Use Generator\n",
    "    del ins_doc\n",
    "Insert_docs()    "
   ]
  },
  {
   "cell_type": "markdown",
   "id": "7c5806dc",
   "metadata": {},
   "source": [
    "*Fetching & Converting The Dictionary of Documents To Pandas DataFrame*"
   ]
  },
  {
   "cell_type": "code",
   "execution_count": 53,
   "id": "bc30eeb5",
   "metadata": {},
   "outputs": [
    {
     "data": {
      "text/html": [
       "<div>\n",
       "<style scoped>\n",
       "    .dataframe tbody tr th:only-of-type {\n",
       "        vertical-align: middle;\n",
       "    }\n",
       "\n",
       "    .dataframe tbody tr th {\n",
       "        vertical-align: top;\n",
       "    }\n",
       "\n",
       "    .dataframe thead th {\n",
       "        text-align: right;\n",
       "    }\n",
       "</style>\n",
       "<table border=\"1\" class=\"dataframe\">\n",
       "  <thead>\n",
       "    <tr style=\"text-align: right;\">\n",
       "      <th></th>\n",
       "      <th>_id</th>\n",
       "      <th>Name</th>\n",
       "      <th>Amount</th>\n",
       "    </tr>\n",
       "  </thead>\n",
       "  <tbody>\n",
       "    <tr>\n",
       "      <th>0</th>\n",
       "      <td>663f44c975bffc136080997f</td>\n",
       "      <td>A</td>\n",
       "      <td>1000000000</td>\n",
       "    </tr>\n",
       "    <tr>\n",
       "      <th>1</th>\n",
       "      <td>663f454475bffc1360809980</td>\n",
       "      <td>B</td>\n",
       "      <td>10000000</td>\n",
       "    </tr>\n",
       "    <tr>\n",
       "      <th>2</th>\n",
       "      <td>663f45e075bffc1360809982</td>\n",
       "      <td>C</td>\n",
       "      <td>100700</td>\n",
       "    </tr>\n",
       "    <tr>\n",
       "      <th>3</th>\n",
       "      <td>663f46c675bffc1360809985</td>\n",
       "      <td>D</td>\n",
       "      <td>100000</td>\n",
       "    </tr>\n",
       "    <tr>\n",
       "      <th>4</th>\n",
       "      <td>665054c1145987aa929dcc3c</td>\n",
       "      <td>Sam</td>\n",
       "      <td>12000</td>\n",
       "    </tr>\n",
       "    <tr>\n",
       "      <th>5</th>\n",
       "      <td>6650606a145987aa929dcc3d</td>\n",
       "      <td>Hein</td>\n",
       "      <td>120000</td>\n",
       "    </tr>\n",
       "    <tr>\n",
       "      <th>6</th>\n",
       "      <td>665060c5145987aa929dcc3e</td>\n",
       "      <td>Hein</td>\n",
       "      <td>int</td>\n",
       "    </tr>\n",
       "    <tr>\n",
       "      <th>7</th>\n",
       "      <td>66506120145987aa929dcc3f</td>\n",
       "      <td>Hein</td>\n",
       "      <td>12000</td>\n",
       "    </tr>\n",
       "    <tr>\n",
       "      <th>8</th>\n",
       "      <td>665063a7145987aa929dcc40</td>\n",
       "      <td>Jhon</td>\n",
       "      <td>int</td>\n",
       "    </tr>\n",
       "    <tr>\n",
       "      <th>9</th>\n",
       "      <td>6650648c145987aa929dcc41</td>\n",
       "      <td>jonga</td>\n",
       "      <td>NaN</td>\n",
       "    </tr>\n",
       "    <tr>\n",
       "      <th>10</th>\n",
       "      <td>6650657a145987aa929dcc42</td>\n",
       "      <td>peter</td>\n",
       "      <td>NaN</td>\n",
       "    </tr>\n",
       "  </tbody>\n",
       "</table>\n",
       "</div>"
      ],
      "text/plain": [
       "                         _id   Name      Amount\n",
       "0   663f44c975bffc136080997f      A  1000000000\n",
       "1   663f454475bffc1360809980      B    10000000\n",
       "2   663f45e075bffc1360809982      C      100700\n",
       "3   663f46c675bffc1360809985      D      100000\n",
       "4   665054c1145987aa929dcc3c    Sam       12000\n",
       "5   6650606a145987aa929dcc3d   Hein      120000\n",
       "6   665060c5145987aa929dcc3e   Hein         int\n",
       "7   66506120145987aa929dcc3f   Hein       12000\n",
       "8   665063a7145987aa929dcc40   Jhon         int\n",
       "9   6650648c145987aa929dcc41  jonga         NaN\n",
       "10  6650657a145987aa929dcc42  peter         NaN"
      ]
     },
     "execution_count": 53,
     "metadata": {},
     "output_type": "execute_result"
    }
   ],
   "source": [
    "import pandas as pd\n",
    "fectched_docs = col.find()\n",
    "df = pd.DataFrame(list(fectched_docs))\n",
    "del fectched_docs\n",
    "df"
   ]
  },
  {
   "cell_type": "code",
   "execution_count": null,
   "id": "bf01d07f",
   "metadata": {},
   "outputs": [],
   "source": []
  }
 ],
 "metadata": {
  "kernelspec": {
   "display_name": "Python 3 (ipykernel)",
   "language": "python",
   "name": "python3"
  },
  "language_info": {
   "codemirror_mode": {
    "name": "ipython",
    "version": 3
   },
   "file_extension": ".py",
   "mimetype": "text/x-python",
   "name": "python",
   "nbconvert_exporter": "python",
   "pygments_lexer": "ipython3",
   "version": "3.11.7"
  }
 },
 "nbformat": 4,
 "nbformat_minor": 5
}
