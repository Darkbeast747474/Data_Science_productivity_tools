{
 "cells": [
  {
   "cell_type": "markdown",
   "id": "02b3c6d7",
   "metadata": {},
   "source": [
    "# Data Scpraping Using Pymongo"
   ]
  },
  {
   "cell_type": "markdown",
   "id": "50180a64",
   "metadata": {},
   "source": [
    "*Importing and Instantiating MongoDB Client*"
   ]
  },
  {
   "cell_type": "code",
   "execution_count": 1,
   "id": "17e7e3e2",
   "metadata": {},
   "outputs": [
    {
     "name": "stdout",
     "output_type": "stream",
     "text": [
      "Connected successfully!!\n"
     ]
    }
   ],
   "source": [
    "from pymongo import MongoClient\n",
    "\n",
    "try:\n",
    "    client = MongoClient('mongodb://localhost:27017/')\n",
    "    client.admin.command(\"ping\")\n",
    "    print(\"Connected successfully!!\")\n",
    "    \n",
    "except Exception as e:\n",
    "    raise Exception(\"The following error occurred: \", e)"
   ]
  },
  {
   "cell_type": "markdown",
   "id": "90108ff2",
   "metadata": {},
   "source": [
    "*Checking And Instantiating Database Instance*"
   ]
  },
  {
   "cell_type": "code",
   "execution_count": 2,
   "id": "ff60a1d2",
   "metadata": {},
   "outputs": [],
   "source": [
    "db_lis = client.list_database_names()"
   ]
  },
  {
   "cell_type": "code",
   "execution_count": 3,
   "id": "08bca70d",
   "metadata": {},
   "outputs": [],
   "source": [
    "db = client[db_lis[5]]"
   ]
  },
  {
   "cell_type": "markdown",
   "id": "ba5a4d76",
   "metadata": {},
   "source": [
    "*Checking And Instantiating Collection Instance*"
   ]
  },
  {
   "cell_type": "code",
   "execution_count": 4,
   "id": "f30a9683",
   "metadata": {},
   "outputs": [],
   "source": [
    "col_lis = db.list_collection_names()"
   ]
  },
  {
   "cell_type": "code",
   "execution_count": 5,
   "id": "740914a0",
   "metadata": {},
   "outputs": [],
   "source": [
    "col = db[col_lis[0]]"
   ]
  },
  {
   "cell_type": "markdown",
   "id": "9dc76281",
   "metadata": {},
   "source": [
    "## Inserting Documents "
   ]
  },
  {
   "cell_type": "markdown",
   "id": "48eb18d0",
   "metadata": {},
   "source": [
    "*Defining A Function For Dictionary Building And Inserting Documnent In MongoDB* "
   ]
  },
  {
   "cell_type": "code",
   "execution_count": 6,
   "id": "6bf405f4",
   "metadata": {},
   "outputs": [
    {
     "name": "stdout",
     "output_type": "stream",
     "text": [
      "0 Documents Inserted\n"
     ]
    }
   ],
   "source": [
    "from select import error\n",
    "\n",
    "\n",
    "def type_Cast(d_t, v):\n",
    "    data_types = {\n",
    "        \"int\": int,\n",
    "        \"float\": float,\n",
    "        \"str\": str,\n",
    "        \"bool\": bool\n",
    "    }\n",
    "    try:\n",
    "        return data_types[d_t](v)\n",
    "    except (ValueError, TypeError):\n",
    "        print(f\"Error casting value: {v} to type: {d_t}\")\n",
    "        return None\n",
    "\n",
    "def dict_generator(feat_doc):\n",
    "    for k, v in feat_doc.items():\n",
    "        yield k, v\n",
    "\n",
    "def Insert_docs(r = int(input(\"Enter The Number of Documents You Want to Insert: \"))):\n",
    "    ''' A Function Which Lets You Choose the Desired attributes & their Types before inserting Them Into a collection of Documents''' \n",
    "    if r != 0:\n",
    "        feat_doc, ins_doc = {}, {}\n",
    "        n_attr = int(input(\"Enter The Number Of Attributes For Collection: \"))\n",
    "        \n",
    "        for i in range(n_attr):\n",
    "            attr_name = input(\"Name Of the Attribute: \")\n",
    "            data_type = input('Enter The Data Type for This Attribute: ')\n",
    "            feat_doc[attr_name] = data_type\n",
    "            \n",
    "        for i in range(r):\n",
    "            ins_doc.clear()  # Clear the dictionary for each document\n",
    "            for k, v in dict_generator(feat_doc):\n",
    "                value = input(f\"Enter The Value For {k} Attribute: \")\n",
    "                casted_value = type_Cast(v, value)\n",
    "                if casted_value is not None:\n",
    "                    ins_doc[k] = casted_value\n",
    "            # Ensure col is defined before using it\n",
    "            try:\n",
    "                col.insert_one(ins_doc)\n",
    "            except error:\n",
    "                print(f\"{error} Occured\")\n",
    "                return\n",
    "    else:        \n",
    "     print(f'{r} Documents Inserted')\n",
    "Insert_docs()\n"
   ]
  },
  {
   "cell_type": "markdown",
   "id": "7c5806dc",
   "metadata": {},
   "source": [
    "*Fetching & Converting The Dictionary of Documents To Pandas DataFrame*"
   ]
  },
  {
   "cell_type": "code",
   "execution_count": 7,
   "id": "bc30eeb5",
   "metadata": {},
   "outputs": [
    {
     "data": {
      "text/html": [
       "<div>\n",
       "<style scoped>\n",
       "    .dataframe tbody tr th:only-of-type {\n",
       "        vertical-align: middle;\n",
       "    }\n",
       "\n",
       "    .dataframe tbody tr th {\n",
       "        vertical-align: top;\n",
       "    }\n",
       "\n",
       "    .dataframe thead th {\n",
       "        text-align: right;\n",
       "    }\n",
       "</style>\n",
       "<table border=\"1\" class=\"dataframe\">\n",
       "  <thead>\n",
       "    <tr style=\"text-align: right;\">\n",
       "      <th></th>\n",
       "      <th>Name</th>\n",
       "      <th>Amount</th>\n",
       "    </tr>\n",
       "  </thead>\n",
       "  <tbody>\n",
       "    <tr>\n",
       "      <th>0</th>\n",
       "      <td>A</td>\n",
       "      <td>1000000000</td>\n",
       "    </tr>\n",
       "    <tr>\n",
       "      <th>1</th>\n",
       "      <td>B</td>\n",
       "      <td>10000000</td>\n",
       "    </tr>\n",
       "    <tr>\n",
       "      <th>2</th>\n",
       "      <td>C</td>\n",
       "      <td>100700</td>\n",
       "    </tr>\n",
       "    <tr>\n",
       "      <th>3</th>\n",
       "      <td>D</td>\n",
       "      <td>100000</td>\n",
       "    </tr>\n",
       "    <tr>\n",
       "      <th>4</th>\n",
       "      <td>E</td>\n",
       "      <td>124532</td>\n",
       "    </tr>\n",
       "    <tr>\n",
       "      <th>5</th>\n",
       "      <td>F</td>\n",
       "      <td>123532</td>\n",
       "    </tr>\n",
       "    <tr>\n",
       "      <th>6</th>\n",
       "      <td>G</td>\n",
       "      <td>2323212</td>\n",
       "    </tr>\n",
       "  </tbody>\n",
       "</table>\n",
       "</div>"
      ],
      "text/plain": [
       "  Name      Amount\n",
       "0    A  1000000000\n",
       "1    B    10000000\n",
       "2    C      100700\n",
       "3    D      100000\n",
       "4    E      124532\n",
       "5    F      123532\n",
       "6    G     2323212"
      ]
     },
     "execution_count": 7,
     "metadata": {},
     "output_type": "execute_result"
    }
   ],
   "source": [
    "import pandas as pd\n",
    "fectched_docs = col.find()\n",
    "df = pd.DataFrame(list(fectched_docs))\n",
    "del fectched_docs\n",
    "df.drop(columns=[\"_id\"],axis=1)"
   ]
  }
 ],
 "metadata": {
  "kernelspec": {
   "display_name": "Python 3 (ipykernel)",
   "language": "python",
   "name": "python3"
  },
  "language_info": {
   "codemirror_mode": {
    "name": "ipython",
    "version": 3
   },
   "file_extension": ".py",
   "mimetype": "text/x-python",
   "name": "python",
   "nbconvert_exporter": "python",
   "pygments_lexer": "ipython3",
   "version": "3.11.7"
  }
 },
 "nbformat": 4,
 "nbformat_minor": 5
}
